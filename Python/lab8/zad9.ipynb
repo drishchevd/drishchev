{
 "cells": [
  {
   "cell_type": "code",
   "execution_count": null,
   "id": "b1923d4c",
   "metadata": {},
   "outputs": [],
   "source": [
    "Создать класс Triangle для представления треугольника. Поля данных должны включать\n",
    "углы и стороны. Требуется реализовать операции: получения и изменения полей данных,\n",
    "вычисления площади, вычисления периметра, вычисления высот, а также определения\n",
    "вида треугольника (равносторонний, равнобедренный или прямоугольный)."
   ]
  },
  {
   "cell_type": "code",
   "execution_count": 3,
   "id": "088d5149",
   "metadata": {},
   "outputs": [
    {
     "name": "stdout",
     "output_type": "stream",
     "text": [
      "Периметр =  12\n",
      "Высота = 6.0\n",
      "Площадь =  6.0\n",
      "Тип треугольника =  Прямоугольный\n"
     ]
    }
   ],
   "source": [
    "import math\n",
    "class Triangle():\n",
    "    def __init__(self, a, b, c, ab ,bc ,ac):\n",
    "        self.a = a\n",
    "        self.b = b\n",
    "        self.c = c\n",
    "        self.ab = ab\n",
    "        self.bc = bc \n",
    "        self.ac = ac\n",
    "    \n",
    "    def perimeter(self):\n",
    "        return self.ab + self.bc + self.ac\n",
    "    \n",
    "    def visota(self):\n",
    "        return (self.ab + self.bc + self.ac)/2\n",
    "        \n",
    "    def ploshchad(self):\n",
    "        return math.sqrt(self.visota()*(self.visota()-self.ab)*(self.visota()-self.bc)*(self.visota()-self.ac))\n",
    "    \n",
    "    def dype(self):\n",
    "        if (self.ab*self.ab + self.bc*self.bc == self.ac*self.ac) or (self.ab*self.ab + self.ac*self.ac == self.bc*self.bc) or (self.ac*self.ac + self.bc*self.bc == self.ab*self.ab):\n",
    "            return(\"Прямоугольный\")\n",
    "        elif (self.ab*self.ab + self.bc*self.bc < self.ac*self.ac) or (self.ab*self.ab + self.ac*self.ac < self.bc*self.bc) or (self.ac*self.ac + self.bc*self.bc < self.ab*self.ab):\n",
    "            return(\"Равнобедренный\")\n",
    "        else:\n",
    "            return(\"Равносторонний\")\n",
    "            \n",
    "if __name__ == '__main__':\n",
    "    Triangle = Triangle(60, 60, 60, 3, 4, 5)\n",
    "    print(\"Периметр = \", Triangle.perimeter())\n",
    "    print(\"Высота =\", Triangle.visota())\n",
    "    print(\"Площадь = \", Triangle.ploshchad())\n",
    "    print(\"Тип треугольника = \", Triangle.dype())"
   ]
  },
  {
   "cell_type": "code",
   "execution_count": null,
   "id": "5b548f05",
   "metadata": {},
   "outputs": [],
   "source": []
  }
 ],
 "metadata": {
  "kernelspec": {
   "display_name": "Python 3 (ipykernel)",
   "language": "python",
   "name": "python3"
  },
  "language_info": {
   "codemirror_mode": {
    "name": "ipython",
    "version": 3
   },
   "file_extension": ".py",
   "mimetype": "text/x-python",
   "name": "python",
   "nbconvert_exporter": "python",
   "pygments_lexer": "ipython3",
   "version": "3.9.7"
  }
 },
 "nbformat": 4,
 "nbformat_minor": 5
}
