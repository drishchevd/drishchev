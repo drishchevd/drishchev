{
 "cells": [
  {
   "cell_type": "code",
   "execution_count": 5,
   "id": "a537e474",
   "metadata": {},
   "outputs": [
    {
     "name": "stdout",
     "output_type": "stream",
     "text": [
      "Нажмите 1 чтобы вывести возможные номиналы1\n",
      "[1, 2, 5, 10, 50, 100, 500, 1000, 5000]\n",
      "Введите номинал купюры: 100\n",
      "Введите кол-во купюр: 50\n",
      "Сумма равна: 5000\n"
     ]
    }
   ],
   "source": [
    "class bank():\n",
    "    def __init__(self, first = 0, second = 0):\n",
    "        self.first = first\n",
    "        self.second = second\n",
    "        self.list = [1, 2 , 5, 10, 50, 100, 500, 1000, 5000]\n",
    "        \n",
    "    def summ(self):\n",
    "        return self.first * self.second\n",
    "    def read(self):\n",
    "        print(self.list)\n",
    "        self.first = (int(input(\"Введите номинал купюры: \")))\n",
    "        self.second = (int(input(\"Введите кол-во купюр: \")))\n",
    "        if self.first in self.list:\n",
    "            self.display()\n",
    "        else:\n",
    "            return \"Выберите другое значение номинала купюры\"\n",
    "\n",
    "    #вывод на экран\n",
    "    def display(self):\n",
    "        print(f'Сумма равна: {self.summ()}')\n",
    "if __name__ == '__main__':\n",
    "    bank = bank()\n",
    "    key = int(input(\"Нажмите 1 чтобы вывести возможные номиналы\"))\n",
    "    if key == 1:\n",
    "        bank.read()\n",
    "    else:\n",
    "        print(\"Ошибка\")\n",
    "        "
   ]
  },
  {
   "cell_type": "code",
   "execution_count": null,
   "id": "720f0936",
   "metadata": {},
   "outputs": [],
   "source": [
    "Поле first — целое положительное число, номинал купюры; номинал может принимать\n",
    "значения 1, 2, 5, 10, 50, 100, 500, 1000, 5000. Поле second — целое положительное число,\n",
    "количество купюр данного достоинства. Реализовать метод summa() — вычисление\n",
    "денежной суммы."
   ]
  },
  {
   "cell_type": "code",
   "execution_count": null,
   "id": "39eae4f6",
   "metadata": {},
   "outputs": [],
   "source": []
  }
 ],
 "metadata": {
  "kernelspec": {
   "display_name": "Python 3 (ipykernel)",
   "language": "python",
   "name": "python3"
  },
  "language_info": {
   "codemirror_mode": {
    "name": "ipython",
    "version": 3
   },
   "file_extension": ".py",
   "mimetype": "text/x-python",
   "name": "python",
   "nbconvert_exporter": "python",
   "pygments_lexer": "ipython3",
   "version": "3.9.7"
  }
 },
 "nbformat": 4,
 "nbformat_minor": 5
}
