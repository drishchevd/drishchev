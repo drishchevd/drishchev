{
 "cells": [
  {
   "cell_type": "code",
   "execution_count": 1,
   "id": "25b0352a",
   "metadata": {},
   "outputs": [
    {
     "name": "stdout",
     "output_type": "stream",
     "text": [
      "Введите число, чтобы узнать месяцы в разные времена года: 2\n",
      "Март, Апрель, Май\n"
     ]
    }
   ],
   "source": [
    "    if __name__ ==  \"__main__\":\n",
    "        m = int(input(\"Введите число, чтобы узнать месяцы в разные времена года: \"))\n",
    "        if m == 1:\n",
    "            print(\"Декабрь, Январь, Февраль\")\n",
    "        elif m ==2: \n",
    "            print(\"Март, Апрель, Май\")\n",
    "        elif m == 3: \n",
    "            print(\"Июнь, Июль, Август\")\n",
    "        elif m == 4: \n",
    "            print (\"Сентябрь, Октябрь, Ноябрь\")\n",
    "        else:\n",
    "            print (\"Ошибка! Выберите цифру от 1 до 4.\")\n",
    "            "
   ]
  },
  {
   "cell_type": "code",
   "execution_count": null,
   "id": "ac6d2958",
   "metadata": {},
   "outputs": [],
   "source": [
    "С клавиатуры вводится цифра (от 1 до 4). Вывести на экран названия месяцев,\n",
    "соответствующих времени года с номером (считать зиму временем года No 1)."
   ]
  }
 ],
 "metadata": {
  "kernelspec": {
   "display_name": "Python 3 (ipykernel)",
   "language": "python",
   "name": "python3"
  },
  "language_info": {
   "codemirror_mode": {
    "name": "ipython",
    "version": 3
   },
   "file_extension": ".py",
   "mimetype": "text/x-python",
   "name": "python",
   "nbconvert_exporter": "python",
   "pygments_lexer": "ipython3",
   "version": "3.9.7"
  }
 },
 "nbformat": 4,
 "nbformat_minor": 5
}
