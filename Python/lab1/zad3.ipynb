{
 "cells": [
  {
   "cell_type": "code",
   "execution_count": 1,
   "id": "3e1ba686",
   "metadata": {},
   "outputs": [
    {
     "name": "stdout",
     "output_type": "stream",
     "text": [
      "Через 6 часа будет 2  клеток\n"
     ]
    }
   ],
   "source": [
    "ameba = 1\n",
    "\n",
    "time_list = [6]\n",
    "\n",
    "for time in time_list:\n",
    "\n",
    "   ameba *= 2\n",
    "\n",
    "   print(\"Через\", time ,\"часа будет\", ameba ,\" клеток\")"
   ]
  },
  {
   "cell_type": "code",
   "execution_count": null,
   "id": "8756c9bd",
   "metadata": {},
   "outputs": [],
   "source": [
    "Одноклеточная амеба каждые три часа делится на 2 клетки. Определить, сколько будет\n",
    "клеток через 6 часов."
   ]
  }
 ],
 "metadata": {
  "kernelspec": {
   "display_name": "Python 3 (ipykernel)",
   "language": "python",
   "name": "python3"
  },
  "language_info": {
   "codemirror_mode": {
    "name": "ipython",
    "version": 3
   },
   "file_extension": ".py",
   "mimetype": "text/x-python",
   "name": "python",
   "nbconvert_exporter": "python",
   "pygments_lexer": "ipython3",
   "version": "3.9.7"
  }
 },
 "nbformat": 4,
 "nbformat_minor": 5
}
