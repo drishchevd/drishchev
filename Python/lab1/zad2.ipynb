{
 "cells": [
  {
   "cell_type": "code",
   "execution_count": 5,
   "id": "0c810532",
   "metadata": {
    "scrolled": true
   },
   "outputs": [
    {
     "name": "stdout",
     "output_type": "stream",
     "text": [
      "56\n",
      "99\n",
      "55\n",
      "В порядке убывания =  99 56 55\n",
      "В порядке возрастания =  55 56 99\n"
     ]
    }
   ],
   "source": [
    "a, b, c = int(input()), int(input()), int(input())\n",
    "if a >= b and a >= c and b >= c:\n",
    "    print(\"В порядке убывания = \", a , b, c)\n",
    "    print(\"В порядке возрастания = \", c, b, a)\n",
    "elif a <= b and a >= c and b >= c:\n",
    "    print(\"В порядке убывания = \", b, a, c)\n",
    "    print(\"В порядке возрастания = \", c, a, b)\n",
    "elif a <= b and a <= c and b <= c:\n",
    "    print(\"В порядке убывания = \", c, b, a)\n",
    "    print(\"В порядке возрастания = \", a, b, c)\n",
    "elif a >= b and a >= c and b <= c:\n",
    "     print(\"В порядке убывания = \", a, c, b)\n",
    "     print(\"В порядке возрастания = \", b, c, a)\n",
    "elif a >= b and a <= c and b <= c:\n",
    "    print(\"В порядке убывания = \", c, a, b)\n",
    "    print(\"В порядке возрастания = \", b, a, c)\n",
    "else:\n",
    "    print(a, c, b)\n",
    "    "
   ]
  },
  {
   "cell_type": "code",
   "execution_count": null,
   "id": "0889f0df",
   "metadata": {},
   "outputs": [],
   "source": [
    "Напечатать три данных действительных числа , и сначала в порядке их возрастания,\n",
    "затем - в порядке убывания."
   ]
  }
 ],
 "metadata": {
  "kernelspec": {
   "display_name": "Python 3 (ipykernel)",
   "language": "python",
   "name": "python3"
  },
  "language_info": {
   "codemirror_mode": {
    "name": "ipython",
    "version": 3
   },
   "file_extension": ".py",
   "mimetype": "text/x-python",
   "name": "python",
   "nbconvert_exporter": "python",
   "pygments_lexer": "ipython3",
   "version": "3.9.7"
  }
 },
 "nbformat": 4,
 "nbformat_minor": 5
}
