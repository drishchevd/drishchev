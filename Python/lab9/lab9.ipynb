{
 "cells": [
  {
   "cell_type": "code",
   "execution_count": 6,
   "id": "b012c7b1",
   "metadata": {},
   "outputs": [
    {
     "name": "stdout",
     "output_type": "stream",
     "text": [
      " 9 -3  7 -3  1\n",
      "-2  8  1  6 -3\n",
      " 1 -2  3 -3  3\n",
      " 5  6  7  2  6\n",
      " 0  8 -2  2  9\n",
      "3 -> 2520\n",
      "31\n"
     ]
    }
   ],
   "source": [
    "import numpy as np\n",
    "from random import randint\n",
    "n = 5\n",
    "a = [[randint(-3,9) for i in range(n)] for j in range(n)]\n",
    "for row in a:\n",
    "    print(*map('{:2d}'.format, row))\n",
    " \n",
    "dmax = a[0][n-1]\n",
    "for k in range(n):\n",
    "    s1 = sum(a[i][i+k] for i in range(n-k))\n",
    "    s2 = sum(a[i+k][i] for i in range(n-k))\n",
    "    dmax = max(dmax, s1, s2)\n",
    "    if all(el >= 0 for el in a[k]):\n",
    "        print(k, '->', np.prod(a[k]))\n",
    "print(dmax)"
   ]
  },
  {
   "cell_type": "code",
   "execution_count": null,
   "id": "872aaa19",
   "metadata": {},
   "outputs": [],
   "source": [
    "4. Дана целочисленная квадратная матрица. Определить:\n",
    "произведение элементов в тех строках, которые не содержат отрицательных элементов;\n",
    "максимум среди сумм элементов диагоналей, параллельных главной диагонали матрицы."
   ]
  }
 ],
 "metadata": {
  "kernelspec": {
   "display_name": "Python 3 (ipykernel)",
   "language": "python",
   "name": "python3"
  },
  "language_info": {
   "codemirror_mode": {
    "name": "ipython",
    "version": 3
   },
   "file_extension": ".py",
   "mimetype": "text/x-python",
   "name": "python",
   "nbconvert_exporter": "python",
   "pygments_lexer": "ipython3",
   "version": "3.9.7"
  }
 },
 "nbformat": 4,
 "nbformat_minor": 5
}
