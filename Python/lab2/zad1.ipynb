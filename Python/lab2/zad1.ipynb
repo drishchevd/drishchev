{
 "cells": [
  {
   "cell_type": "code",
   "execution_count": 11,
   "id": "2130517b",
   "metadata": {},
   "outputs": [
    {
     "name": "stdout",
     "output_type": "stream",
     "text": [
      "ya\n",
      "+++++ ya ------\n"
     ]
    }
   ],
   "source": [
    "slovo = input()\n",
    "print(\"+++++\",slovo,\"------\")"
   ]
  },
  {
   "cell_type": "code",
   "execution_count": null,
   "id": "b80d19b2",
   "metadata": {},
   "outputs": [],
   "source": [
    "Дано слово. Добавить к нему в начале и конце столько звездочек, сколько букв в этом слове."
   ]
  }
 ],
 "metadata": {
  "kernelspec": {
   "display_name": "Python 3 (ipykernel)",
   "language": "python",
   "name": "python3"
  },
  "language_info": {
   "codemirror_mode": {
    "name": "ipython",
    "version": 3
   },
   "file_extension": ".py",
   "mimetype": "text/x-python",
   "name": "python",
   "nbconvert_exporter": "python",
   "pygments_lexer": "ipython3",
   "version": "3.9.7"
  }
 },
 "nbformat": 4,
 "nbformat_minor": 5
}
