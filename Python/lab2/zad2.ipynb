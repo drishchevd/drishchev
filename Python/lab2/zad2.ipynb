{
 "cells": [
  {
   "cell_type": "code",
   "execution_count": null,
   "id": "4f524417",
   "metadata": {},
   "outputs": [],
   "source": [
    "4. Дана последовательность символов, в начале которой имеется некоторое количество\n",
    "одинаковых символов. Определить это количество. Рассмотреть два случая:\n",
    "известно, что не все символы последовательности одинаковые;\n",
    "все символы последовательности могут быть одинаковыми.\n",
    "\n",
    "\n"
   ]
  },
  {
   "cell_type": "code",
   "execution_count": 10,
   "id": "55b13517",
   "metadata": {},
   "outputs": [
    {
     "name": "stdout",
     "output_type": "stream",
     "text": [
      "{'Я': 1, 'л': 2, 'ю': 2, 'б': 1, 'с': 2, 'в': 2, 'о': 1, 'й': 1, 'у': 1, 'н': 1, 'и': 2, 'е': 2, 'р': 1, 'т': 2}\n"
     ]
    }
   ],
   "source": [
    "check_string = \"Я люблю свой университет\"\n",
    "count = {}\n",
    "for s in check_string:\n",
    "    if s != ' ':\n",
    "        if s in count:\n",
    "            count[s] += 1\n",
    "        else:\n",
    "            count[s] = 1\n",
    "print(count)"
   ]
  },
  {
   "cell_type": "code",
   "execution_count": null,
   "id": "3543d22e",
   "metadata": {},
   "outputs": [],
   "source": []
  }
 ],
 "metadata": {
  "kernelspec": {
   "display_name": "Python 3 (ipykernel)",
   "language": "python",
   "name": "python3"
  },
  "language_info": {
   "codemirror_mode": {
    "name": "ipython",
    "version": 3
   },
   "file_extension": ".py",
   "mimetype": "text/x-python",
   "name": "python",
   "nbconvert_exporter": "python",
   "pygments_lexer": "ipython3",
   "version": "3.9.7"
  }
 },
 "nbformat": 4,
 "nbformat_minor": 5
}
