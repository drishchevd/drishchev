{
 "cells": [
  {
   "cell_type": "code",
   "execution_count": 57,
   "id": "d5004559",
   "metadata": {},
   "outputs": [
    {
     "name": "stdout",
     "output_type": "stream",
     "text": [
      "v t r i\n"
     ]
    }
   ],
   "source": [
    "L = 'Love'\n",
    "O = \"python\"\n",
    "V = \"for\"\n",
    "E = \"this\"\n",
    "\n",
    "\n",
    "\n",
    "print(l[2:3],o[2:3],v[2:3],e[2:3])"
   ]
  },
  {
   "cell_type": "code",
   "execution_count": null,
   "id": "4cec9f11",
   "metadata": {},
   "outputs": [],
   "source": [
    "4. Дано предложение. Удалить из него все символы с n1-го по n2-й."
   ]
  }
 ],
 "metadata": {
  "kernelspec": {
   "display_name": "Python 3 (ipykernel)",
   "language": "python",
   "name": "python3"
  },
  "language_info": {
   "codemirror_mode": {
    "name": "ipython",
    "version": 3
   },
   "file_extension": ".py",
   "mimetype": "text/x-python",
   "name": "python",
   "nbconvert_exporter": "python",
   "pygments_lexer": "ipython3",
   "version": "3.9.7"
  }
 },
 "nbformat": 4,
 "nbformat_minor": 5
}
