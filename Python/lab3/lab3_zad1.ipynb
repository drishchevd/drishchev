{
 "cells": [
  {
   "cell_type": "code",
   "execution_count": 15,
   "id": "7742385c",
   "metadata": {},
   "outputs": [
    {
     "name": "stdout",
     "output_type": "stream",
     "text": [
      "-17\n"
     ]
    }
   ],
   "source": [
    "a = [1,-2,4,5,-6,7,8,-9,10,11]\n",
    "sum = 0\n",
    "for i in a:\n",
    "    if i < 0:\n",
    "        sum+= i\n",
    "print(sum)"
   ]
  },
  {
   "cell_type": "code",
   "execution_count": null,
   "id": "db2c7972",
   "metadata": {},
   "outputs": [],
   "source": [
    "4. Ввести список А из 10 элементов, найти сумму отрицательных элементов и вывести ее на\n",
    "экран."
   ]
  }
 ],
 "metadata": {
  "kernelspec": {
   "display_name": "Python 3 (ipykernel)",
   "language": "python",
   "name": "python3"
  },
  "language_info": {
   "codemirror_mode": {
    "name": "ipython",
    "version": 3
   },
   "file_extension": ".py",
   "mimetype": "text/x-python",
   "name": "python",
   "nbconvert_exporter": "python",
   "pygments_lexer": "ipython3",
   "version": "3.9.7"
  }
 },
 "nbformat": 4,
 "nbformat_minor": 5
}
