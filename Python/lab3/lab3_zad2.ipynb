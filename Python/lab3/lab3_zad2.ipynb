{
 "cells": [
  {
   "cell_type": "code",
   "execution_count": 48,
   "id": "30e7b82c",
   "metadata": {},
   "outputs": [
    {
     "name": "stdout",
     "output_type": "stream",
     "text": [
      "Список:  [-3, -3, 1, -2, -5]\n",
      "-3 1 -5 \n",
      " Сумма элементов списка с нечетными номерами: -7\n",
      "-3  -3  -2  -5\n",
      "Сумма элементов расположенных между первым и последним отр. элементом: -13\n"
     ]
    }
   ],
   "source": [
    "lists = [-3, -3, 1 , -2, -5]\n",
    "print('Список: ',lists)\n",
    "l = lists[len(lists)-1]\n",
    "s = 0\n",
    "for x in lists[::2]:\n",
    "   s = x + s\n",
    "   print(x ,end=\" \")\n",
    "t = lists[0] + lists[len(lists)-1]\n",
    "print('\\n Сумма элементов списка с нечетными номерами:',s)\n",
    "print(f'{lists[0]} ' ,end='')\n",
    "for i in lists:\n",
    "    if i < 0:\n",
    "        t = t + i\n",
    "        print(f' {i} ',end='')\n",
    "    lists[i - 1] = 0\n",
    "print(f' {l}')\n",
    "print('Сумма элементов расположенных между первым и последним отр. элементом:',t)"
   ]
  },
  {
   "cell_type": "code",
   "execution_count": null,
   "id": "067d750c",
   "metadata": {},
   "outputs": [],
   "source": [
    "4. В списке, состоящем из вещественных элементов, вычислить:\n",
    "1. сумму элементов списка с нечетными номерами;\n",
    "2. сумму элементов списка, расположенных между первым и последним отрицательными\n",
    "элементами."
   ]
  }
 ],
 "metadata": {
  "kernelspec": {
   "display_name": "Python 3 (ipykernel)",
   "language": "python",
   "name": "python3"
  },
  "language_info": {
   "codemirror_mode": {
    "name": "ipython",
    "version": 3
   },
   "file_extension": ".py",
   "mimetype": "text/x-python",
   "name": "python",
   "nbconvert_exporter": "python",
   "pygments_lexer": "ipython3",
   "version": "3.9.7"
  }
 },
 "nbformat": 4,
 "nbformat_minor": 5
}
