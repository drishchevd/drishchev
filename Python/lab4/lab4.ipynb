{
 "cells": [
  {
   "cell_type": "code",
   "execution_count": null,
   "id": "6f41a225",
   "metadata": {},
   "outputs": [],
   "source": [
    "dictionary=[\n",
    "    {'Пункт назначения рейса': 'Москва', 'Номер рейса': 1, 'Тип самолета': 'поршневой'},\n",
    "    {'Пункт назначения рейса': 'Владимир', 'Номер рейса': 2, 'Тип самолета': 'турбодизельный'}]\n",
    "def record():\n",
    "    dictionary.append({\n",
    "        'Пункт назначения рейса ':input('Введите пункт назначения: '), 'Номер рейса': input('Введите номер рейса'),\n",
    "        'Тип самолета' :input('Введите тип самолета: ')})\n",
    "    return 'Готово'\n",
    "    \n",
    "def show(s):\n",
    "    di=[]\n",
    "    for i in dictionary:\n",
    "        if s==2:\n",
    "             if i['Номер рейса']==2: di.append(show_print(i))\n",
    "        else: di.append(show_print(i))\n",
    "    print(*sorted(di), sep='\\n')\n",
    "def show_print(d): return f\" Номер рейса: {d['Номер рейса']}, Пункт назначения рейса: {d['Пункт назначения рейса']}, Тип самолета: {d['Тип самолета']}\"\n",
    "\n",
    "while True:\n",
    "\n",
    "    act=int(input(''' \n",
    "       Что вы хотите узнать?\n",
    "       1 - Создать новую запись\n",
    "       2 - Вывести полеты с номером рейса 2\n",
    "       3 - Узнать номера рейсов и типы самолетов, вылетающих в пункт назначения\n",
    "       0 - Выход из программы\n",
    "       '''))\n",
    "    if act==1: print(record())\n",
    "    if act==2: show(2)\n",
    "    if act==3: show(0)\n",
    "    if act==0: break\n"
   ]
  },
  {
   "cell_type": "code",
   "execution_count": null,
   "id": "04efc9bb",
   "metadata": {},
   "outputs": [],
   "source": []
  }
 ],
 "metadata": {
  "kernelspec": {
   "display_name": "Python 3 (ipykernel)",
   "language": "python",
   "name": "python3"
  },
  "language_info": {
   "codemirror_mode": {
    "name": "ipython",
    "version": 3
   },
   "file_extension": ".py",
   "mimetype": "text/x-python",
   "name": "python",
   "nbconvert_exporter": "python",
   "pygments_lexer": "ipython3",
   "version": "3.9.7"
  }
 },
 "nbformat": 4,
 "nbformat_minor": 5
}
